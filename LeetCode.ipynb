{
 "cells": [
  {
   "cell_type": "markdown",
   "metadata": {},
   "source": [
    "# Download Leetcode with Selenium\n",
    "\n",
    "(Work as of 8/14/2020)\n",
    "\n",
    "\n",
    "required PhantomJS, see https://phantomjs.org/download.html"
   ]
  },
  {
   "cell_type": "code",
   "execution_count": 34,
   "metadata": {},
   "outputs": [
    {
     "name": "stderr",
     "output_type": "stream",
     "text": [
      "/Users/pataveemeemeng/jupyter-projects/leetcode_crawl/venv/lib/python3.6/site-packages/selenium/webdriver/phantomjs/webdriver.py:49: UserWarning: Selenium support for PhantomJS has been deprecated, please use headless versions of Chrome or Firefox instead\n",
      "  warnings.warn('Selenium support for PhantomJS has been deprecated, please use headless '\n"
     ]
    }
   ],
   "source": [
    "import os\n",
    "\n",
    "if \"phantomjs\" not in os.environ['PATH']:\n",
    "    print(\"Please install phantomjs first\")\n",
    "    \n",
    "from selenium import webdriver # required PhantomJS, see https://phantomjs.org/download.html\n",
    "from bs4 import BeautifulSoup\n",
    "\n",
    "driver = webdriver.PhantomJS()"
   ]
  },
  {
   "cell_type": "code",
   "execution_count": 42,
   "metadata": {},
   "outputs": [
    {
     "name": "stdout",
     "output_type": "stream",
     "text": [
      "number of problem 1565\n",
      "example:  https://leetcode.com/problems/decode-ways\n"
     ]
    }
   ],
   "source": [
    "# download first page manually from https://leetcode.com/problemset/all/ \n",
    "\n",
    "fname_firstpage = \"Problems - LeetCode.htm\"\n",
    "\n",
    "prefix = \"https://leetcode.com/problems\"\n",
    "urls = set()\n",
    "\n",
    "with open(fname_firstpage, \"r\") as f:\n",
    "    soup = BeautifulSoup(f.read())\n",
    "    \n",
    "    for e in soup.find_all(\"a\"):\n",
    "        href = e.get(\"href\")\n",
    "        if href and href[:len(prefix)] == prefix:\n",
    "            urls.add(href)\n",
    "            \n",
    "urls = list(urls)\n",
    "print(\"number of problem\", len(urls))\n",
    "print(\"example: \", urls[0])"
   ]
  },
  {
   "cell_type": "code",
   "execution_count": null,
   "metadata": {},
   "outputs": [
    {
     "name": "stderr",
     "output_type": "stream",
     "text": [
      "/Users/pataveemeemeng/jupyter-projects/leetcode_crawl/venv/lib/python3.6/site-packages/selenium/webdriver/phantomjs/webdriver.py:49: UserWarning: Selenium support for PhantomJS has been deprecated, please use headless versions of Chrome or Firefox instead\n",
      "  warnings.warn('Selenium support for PhantomJS has been deprecated, please use headless '\n"
     ]
    },
    {
     "name": "stdout",
     "output_type": "stream",
     "text": [
      "downloading decode-ways ...\n",
      "downloading combine-two-tables ...\n",
      "downloading pascals-triangle ...\n",
      "downloading move-sub-tree-of-n-ary-tree ...\n",
      "downloading shortest-path-to-get-all-keys ...\n",
      "downloading shortest-bridge ...\n",
      "downloading single-number-iii ...\n",
      "downloading actors-and-directors-who-cooperated-at-least-three-times ...\n",
      "downloading find-median-from-data-stream ...\n",
      "downloading binary-tree-pruning ...\n",
      "downloading reverse-words-in-a-string-ii ...\n",
      "downloading combination-sum-iv ...\n",
      "downloading fair-candy-swap ...\n",
      "downloading minimum-height-trees ...\n",
      "downloading valid-mountain-array ...\n",
      "downloading shortest-word-distance ...\n",
      "downloading queens-that-can-attack-the-king ...\n",
      "downloading monthly-transactions-i ...\n",
      "downloading lucky-numbers-in-a-matrix ...\n",
      "downloading convex-polygon ...\n",
      "downloading beautiful-arrangement ...\n",
      "downloading merge-two-sorted-lists ...\n",
      "downloading perfect-number ...\n",
      "downloading students-and-examinations ...\n",
      "downloading diagonal-traverse ...\n",
      "downloading longest-repeating-substring ...\n",
      "downloading people-whose-list-of-favorite-companies-is-not-a-subset-of-another-list ...\n",
      "downloading find-kth-bit-in-nth-binary-string ...\n",
      "downloading sort-an-array ...\n",
      "downloading max-dot-product-of-two-subsequences ...\n",
      "downloading student-attendance-record-ii ...\n",
      "downloading longest-duplicate-substring ...\n",
      "downloading rectangles-area ...\n",
      "downloading delete-operation-for-two-strings ...\n",
      "downloading valid-sudoku ...\n",
      "downloading factorial-trailing-zeroes ...\n",
      "downloading robot-room-cleaner ...\n",
      "downloading squirrel-simulation ...\n",
      "downloading reverse-integer ...\n",
      "downloading construct-binary-tree-from-inorder-and-postorder-traversal ...\n",
      "downloading delete-and-earn ...\n",
      "downloading 4sum ...\n",
      "downloading transform-to-chessboard ...\n",
      "downloading number-of-recent-calls ...\n",
      "downloading shortest-path-with-alternating-colors ...\n",
      "downloading friend-circles ...\n",
      "downloading additive-number ...\n",
      "downloading defanging-an-ip-address ...\n",
      "downloading maximum-length-of-a-concatenated-string-with-unique-characters ...\n",
      "downloading  ...\n",
      "downloading count-unique-characters-of-all-substrings-of-a-given-string ...\n",
      "downloading jump-game-v ...\n",
      "downloading print-binary-tree ...\n",
      "downloading number-of-subarrays-with-bounded-maximum ...\n",
      "downloading minimum-subsequence-in-non-increasing-order ...\n",
      "downloading available-captures-for-rook ...\n",
      "downloading brace-expansion ...\n",
      "downloading car-pooling ...\n",
      "downloading largest-multiple-of-three ...\n",
      "downloading parsing-a-boolean-expression ...\n",
      "downloading last-stone-weight-ii ...\n",
      "downloading longest-univalue-path ...\n",
      "downloading four-divisors ...\n",
      "downloading the-k-strongest-values-in-an-array ...\n",
      "downloading average-salary-departments-vs-company ...\n",
      "downloading count-and-say ...\n",
      "downloading friend-requests-ii-who-has-the-most-friends ...\n",
      "downloading search-in-rotated-sorted-array-ii ...\n",
      "downloading find-customer-referee ...\n",
      "downloading count-triplets-that-can-form-two-arrays-of-equal-xor ...\n",
      "downloading valid-anagram ...\n",
      "downloading active-users ...\n",
      "downloading random-pick-with-weight ...\n",
      "downloading reorder-routes-to-make-all-paths-lead-to-the-city-zero ...\n",
      "downloading check-if-a-number-is-majority-element-in-a-sorted-array ...\n",
      "downloading construct-target-array-with-multiple-sums ...\n",
      "downloading design-hashset ...\n",
      "downloading check-if-there-is-a-valid-path-in-a-grid ...\n",
      "downloading number-of-nodes-in-the-sub-tree-with-the-same-label ...\n",
      "downloading orderly-queue ...\n",
      "downloading best-time-to-buy-and-sell-stock-with-cooldown ...\n",
      "downloading the-most-recent-orders-for-each-product ...\n",
      "downloading circular-permutation-in-binary-representation ...\n",
      "downloading remove-duplicates-from-sorted-list-ii ...\n",
      "downloading maximum-depth-of-binary-tree ...\n",
      "downloading permutations-ii ...\n",
      "downloading paint-house-ii ...\n",
      "downloading maximum-product-of-three-numbers ...\n",
      "downloading customers-who-bought-products-a-and-b-but-not-c ...\n",
      "downloading allocate-mailboxes ...\n",
      "downloading largest-1-bordered-square ...\n",
      "downloading game-play-analysis-v ...\n",
      "downloading ternary-expression-parser ...\n",
      "downloading longest-line-of-consecutive-one-in-matrix ...\n",
      "downloading three-equal-parts ...\n",
      "downloading permutation-sequence ...\n",
      "downloading binary-tree-zigzag-level-order-traversal ...\n",
      "downloading patching-array ...\n",
      "downloading minimize-malware-spread-ii ...\n",
      "downloading design-search-autocomplete-system ...\n",
      "downloading minimum-swaps-to-make-sequences-increasing ...\n",
      "downloading merge-k-sorted-lists ...\n",
      "downloading path-with-maximum-gold ...\n",
      "downloading minimum-unique-word-abbreviation ...\n",
      "downloading check-if-a-string-contains-all-binary-codes-of-size-k ...\n",
      "downloading sort-integers-by-the-number-of-1-bits ...\n",
      "downloading single-element-in-a-sorted-array ...\n",
      "downloading goat-latin ...\n",
      "downloading similar-string-groups ...\n",
      "downloading word-ladder ...\n",
      "downloading number-of-valid-subarrays ...\n",
      "downloading decrypt-string-from-alphabet-to-integer-mapping ...\n"
     ]
    }
   ],
   "source": [
    "# get problem content with Selenium\n",
    "driver = webdriver.PhantomJS()\n",
    "\n",
    "for my_url in urls:\n",
    "    problem_name = my_url.split(\"/\")[-1]\n",
    "    print(\"downloading {} ...\".format(problem_name))\n",
    "    driver.get(my_url)\n",
    "    html = driver.page_source\n",
    "    soup = BeautifulSoup(html, 'html.parser')\n",
    "    description_items = soup.find_all(\"div\", attrs={\"data-key\": \"description-content\"})\n",
    "    description = \"\\n\".join(e.text for e in description_items)\n",
    "    \n",
    "    if description.strip():\n",
    "        with open(problem_name + \".txt\", \"w\") as f:\n",
    "            f.write(description)\n",
    "        \n",
    "\n",
    "                             \n",
    "\n",
    "    \n"
   ]
  },
  {
   "cell_type": "code",
   "execution_count": null,
   "metadata": {},
   "outputs": [],
   "source": []
  }
 ],
 "metadata": {
  "kernelspec": {
   "display_name": "Python 3",
   "language": "python",
   "name": "python3"
  },
  "language_info": {
   "codemirror_mode": {
    "name": "ipython",
    "version": 3
   },
   "file_extension": ".py",
   "mimetype": "text/x-python",
   "name": "python",
   "nbconvert_exporter": "python",
   "pygments_lexer": "ipython3",
   "version": "3.6.8"
  }
 },
 "nbformat": 4,
 "nbformat_minor": 4
}
